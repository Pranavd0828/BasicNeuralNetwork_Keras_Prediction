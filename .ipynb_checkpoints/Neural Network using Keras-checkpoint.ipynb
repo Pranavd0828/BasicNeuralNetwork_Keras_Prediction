{
 "cells": [
  {
   "cell_type": "code",
   "execution_count": 1,
   "metadata": {},
   "outputs": [
    {
     "name": "stderr",
     "output_type": "stream",
     "text": [
      "Using TensorFlow backend.\n"
     ]
    }
   ],
   "source": [
    "import numpy as np\n",
    "import pandas as pd\n",
    "import keras\n",
    "import tensorflow as tf\n",
    "import os\n",
    "\n",
    "from tensorflow.keras import Sequential\n",
    "\n",
    "from tensorflow.keras.layers import *\n",
    "\n",
    "from sklearn.preprocessing import MinMaxScaler\n",
    "from sklearn.preprocessing import StandardScaler"
   ]
  },
  {
   "cell_type": "markdown",
   "metadata": {},
   "source": [
    "### Read the data"
   ]
  },
  {
   "cell_type": "code",
   "execution_count": 2,
   "metadata": {},
   "outputs": [],
   "source": [
    "train_data_df = pd.read_csv(\"sales_data_training.csv\")\n",
    "test_data_df = pd.read_csv(\"sales_data_test.csv\")"
   ]
  },
  {
   "cell_type": "code",
   "execution_count": 3,
   "metadata": {},
   "outputs": [
    {
     "data": {
      "text/html": [
       "<div>\n",
       "<style scoped>\n",
       "    .dataframe tbody tr th:only-of-type {\n",
       "        vertical-align: middle;\n",
       "    }\n",
       "\n",
       "    .dataframe tbody tr th {\n",
       "        vertical-align: top;\n",
       "    }\n",
       "\n",
       "    .dataframe thead th {\n",
       "        text-align: right;\n",
       "    }\n",
       "</style>\n",
       "<table border=\"1\" class=\"dataframe\">\n",
       "  <thead>\n",
       "    <tr style=\"text-align: right;\">\n",
       "      <th></th>\n",
       "      <th>critic_rating</th>\n",
       "      <th>is_action</th>\n",
       "      <th>is_exclusive_to_us</th>\n",
       "      <th>is_portable</th>\n",
       "      <th>is_role_playing</th>\n",
       "      <th>is_sequel</th>\n",
       "      <th>is_sports</th>\n",
       "      <th>suitable_for_kids</th>\n",
       "      <th>total_earnings</th>\n",
       "      <th>unit_price</th>\n",
       "    </tr>\n",
       "  </thead>\n",
       "  <tbody>\n",
       "    <tr>\n",
       "      <td>0</td>\n",
       "      <td>3.5</td>\n",
       "      <td>1</td>\n",
       "      <td>0</td>\n",
       "      <td>1</td>\n",
       "      <td>0</td>\n",
       "      <td>1</td>\n",
       "      <td>0</td>\n",
       "      <td>0</td>\n",
       "      <td>132717</td>\n",
       "      <td>59.99</td>\n",
       "    </tr>\n",
       "    <tr>\n",
       "      <td>1</td>\n",
       "      <td>4.5</td>\n",
       "      <td>0</td>\n",
       "      <td>0</td>\n",
       "      <td>0</td>\n",
       "      <td>0</td>\n",
       "      <td>1</td>\n",
       "      <td>1</td>\n",
       "      <td>0</td>\n",
       "      <td>83407</td>\n",
       "      <td>49.99</td>\n",
       "    </tr>\n",
       "    <tr>\n",
       "      <td>2</td>\n",
       "      <td>3.0</td>\n",
       "      <td>0</td>\n",
       "      <td>0</td>\n",
       "      <td>0</td>\n",
       "      <td>0</td>\n",
       "      <td>1</td>\n",
       "      <td>1</td>\n",
       "      <td>0</td>\n",
       "      <td>62423</td>\n",
       "      <td>49.99</td>\n",
       "    </tr>\n",
       "    <tr>\n",
       "      <td>3</td>\n",
       "      <td>4.5</td>\n",
       "      <td>1</td>\n",
       "      <td>0</td>\n",
       "      <td>0</td>\n",
       "      <td>0</td>\n",
       "      <td>0</td>\n",
       "      <td>0</td>\n",
       "      <td>1</td>\n",
       "      <td>69889</td>\n",
       "      <td>39.99</td>\n",
       "    </tr>\n",
       "    <tr>\n",
       "      <td>4</td>\n",
       "      <td>4.0</td>\n",
       "      <td>1</td>\n",
       "      <td>0</td>\n",
       "      <td>1</td>\n",
       "      <td>0</td>\n",
       "      <td>1</td>\n",
       "      <td>0</td>\n",
       "      <td>1</td>\n",
       "      <td>161382</td>\n",
       "      <td>59.99</td>\n",
       "    </tr>\n",
       "  </tbody>\n",
       "</table>\n",
       "</div>"
      ],
      "text/plain": [
       "   critic_rating  is_action  is_exclusive_to_us  is_portable  is_role_playing  \\\n",
       "0            3.5          1                   0            1                0   \n",
       "1            4.5          0                   0            0                0   \n",
       "2            3.0          0                   0            0                0   \n",
       "3            4.5          1                   0            0                0   \n",
       "4            4.0          1                   0            1                0   \n",
       "\n",
       "   is_sequel  is_sports  suitable_for_kids  total_earnings  unit_price  \n",
       "0          1          0                  0          132717       59.99  \n",
       "1          1          1                  0           83407       49.99  \n",
       "2          1          1                  0           62423       49.99  \n",
       "3          0          0                  1           69889       39.99  \n",
       "4          1          0                  1          161382       59.99  "
      ]
     },
     "execution_count": 3,
     "metadata": {},
     "output_type": "execute_result"
    }
   ],
   "source": [
    "train_data_df.head()"
   ]
  },
  {
   "cell_type": "code",
   "execution_count": 4,
   "metadata": {},
   "outputs": [
    {
     "data": {
      "text/html": [
       "<div>\n",
       "<style scoped>\n",
       "    .dataframe tbody tr th:only-of-type {\n",
       "        vertical-align: middle;\n",
       "    }\n",
       "\n",
       "    .dataframe tbody tr th {\n",
       "        vertical-align: top;\n",
       "    }\n",
       "\n",
       "    .dataframe thead th {\n",
       "        text-align: right;\n",
       "    }\n",
       "</style>\n",
       "<table border=\"1\" class=\"dataframe\">\n",
       "  <thead>\n",
       "    <tr style=\"text-align: right;\">\n",
       "      <th></th>\n",
       "      <th>critic_rating</th>\n",
       "      <th>is_action</th>\n",
       "      <th>is_exclusive_to_us</th>\n",
       "      <th>is_portable</th>\n",
       "      <th>is_role_playing</th>\n",
       "      <th>is_sequel</th>\n",
       "      <th>is_sports</th>\n",
       "      <th>suitable_for_kids</th>\n",
       "      <th>total_earnings</th>\n",
       "      <th>unit_price</th>\n",
       "    </tr>\n",
       "  </thead>\n",
       "  <tbody>\n",
       "    <tr>\n",
       "      <td>0</td>\n",
       "      <td>3.5</td>\n",
       "      <td>1</td>\n",
       "      <td>1</td>\n",
       "      <td>1</td>\n",
       "      <td>0</td>\n",
       "      <td>1</td>\n",
       "      <td>0</td>\n",
       "      <td>1</td>\n",
       "      <td>247537</td>\n",
       "      <td>59.99</td>\n",
       "    </tr>\n",
       "    <tr>\n",
       "      <td>1</td>\n",
       "      <td>2.5</td>\n",
       "      <td>0</td>\n",
       "      <td>0</td>\n",
       "      <td>0</td>\n",
       "      <td>1</td>\n",
       "      <td>1</td>\n",
       "      <td>0</td>\n",
       "      <td>0</td>\n",
       "      <td>73960</td>\n",
       "      <td>59.99</td>\n",
       "    </tr>\n",
       "    <tr>\n",
       "      <td>2</td>\n",
       "      <td>3.5</td>\n",
       "      <td>0</td>\n",
       "      <td>0</td>\n",
       "      <td>0</td>\n",
       "      <td>0</td>\n",
       "      <td>1</td>\n",
       "      <td>1</td>\n",
       "      <td>0</td>\n",
       "      <td>82671</td>\n",
       "      <td>59.99</td>\n",
       "    </tr>\n",
       "    <tr>\n",
       "      <td>3</td>\n",
       "      <td>4.0</td>\n",
       "      <td>1</td>\n",
       "      <td>1</td>\n",
       "      <td>0</td>\n",
       "      <td>0</td>\n",
       "      <td>1</td>\n",
       "      <td>0</td>\n",
       "      <td>0</td>\n",
       "      <td>137456</td>\n",
       "      <td>39.99</td>\n",
       "    </tr>\n",
       "    <tr>\n",
       "      <td>4</td>\n",
       "      <td>2.0</td>\n",
       "      <td>1</td>\n",
       "      <td>0</td>\n",
       "      <td>1</td>\n",
       "      <td>0</td>\n",
       "      <td>1</td>\n",
       "      <td>0</td>\n",
       "      <td>0</td>\n",
       "      <td>89639</td>\n",
       "      <td>59.99</td>\n",
       "    </tr>\n",
       "  </tbody>\n",
       "</table>\n",
       "</div>"
      ],
      "text/plain": [
       "   critic_rating  is_action  is_exclusive_to_us  is_portable  is_role_playing  \\\n",
       "0            3.5          1                   1            1                0   \n",
       "1            2.5          0                   0            0                1   \n",
       "2            3.5          0                   0            0                0   \n",
       "3            4.0          1                   1            0                0   \n",
       "4            2.0          1                   0            1                0   \n",
       "\n",
       "   is_sequel  is_sports  suitable_for_kids  total_earnings  unit_price  \n",
       "0          1          0                  1          247537       59.99  \n",
       "1          1          0                  0           73960       59.99  \n",
       "2          1          1                  0           82671       59.99  \n",
       "3          1          0                  0          137456       39.99  \n",
       "4          1          0                  0           89639       59.99  "
      ]
     },
     "execution_count": 4,
     "metadata": {},
     "output_type": "execute_result"
    }
   ],
   "source": [
    "test_data_df.head()"
   ]
  },
  {
   "cell_type": "markdown",
   "metadata": {},
   "source": [
    "### Scaling the data\n",
    "\n",
    "We want to scale all the numbers in each column to be between zero and one. If the numbers in one column are large, but the numbers in another column are small, the training process won't work very well. We can do this using the Min Max Scaler object "
   ]
  },
  {
   "cell_type": "code",
   "execution_count": 5,
   "metadata": {},
   "outputs": [],
   "source": [
    "Scaler = MinMaxScaler(feature_range = (0, 1))"
   ]
  },
  {
   "cell_type": "code",
   "execution_count": 6,
   "metadata": {},
   "outputs": [],
   "source": [
    "scaled_training = Scaler.fit_transform(train_data_df)\n",
    "scaled_test = Scaler.transform(test_data_df)"
   ]
  },
  {
   "cell_type": "code",
   "execution_count": 7,
   "metadata": {},
   "outputs": [
    {
     "name": "stdout",
     "output_type": "stream",
     "text": [
      "Note:\n",
      "\n",
      "Total_earnings values were scaled by first multiplying: 0.0000036968\n",
      "After that adding: -0.115913\n"
     ]
    }
   ],
   "source": [
    "mul_factor = Scaler.scale_[8]\n",
    "add_factor = Scaler.min_[8]\n",
    "\n",
    "print(\"Note:\\n\")\n",
    "print(\"Total_earnings values were scaled by first multiplying: {:.10f}\".format(mul_factor))\n",
    "print(\"After that adding: {:.6f}\".format(add_factor))"
   ]
  },
  {
   "cell_type": "code",
   "execution_count": 8,
   "metadata": {},
   "outputs": [],
   "source": [
    "scaled_train_df = pd.DataFrame(scaled_training, columns = train_data_df.columns.values)\n",
    "scaled_test_df = pd.DataFrame(scaled_test, columns = test_data_df.columns.values)"
   ]
  },
  {
   "cell_type": "markdown",
   "metadata": {},
   "source": [
    "### Save the scaled training and scaled testing data in different csv"
   ]
  },
  {
   "cell_type": "code",
   "execution_count": 9,
   "metadata": {},
   "outputs": [],
   "source": [
    "scaled_train_df.to_csv(\"scaled_training_data.csv\")\n",
    "scaled_test_df.to_csv(\"scaled_testing_data.csv\")"
   ]
  },
  {
   "cell_type": "code",
   "execution_count": 10,
   "metadata": {},
   "outputs": [],
   "source": [
    "scaled_train_data = pd.read_csv(\"scaled_training_data.csv\").drop(\"Unnamed: 0\", axis = 1)\n",
    "scaled_test_data = pd.read_csv(\"scaled_testing_data.csv\").drop(\"Unnamed: 0\", axis = 1)"
   ]
  },
  {
   "cell_type": "code",
   "execution_count": 11,
   "metadata": {},
   "outputs": [
    {
     "data": {
      "text/html": [
       "<div>\n",
       "<style scoped>\n",
       "    .dataframe tbody tr th:only-of-type {\n",
       "        vertical-align: middle;\n",
       "    }\n",
       "\n",
       "    .dataframe tbody tr th {\n",
       "        vertical-align: top;\n",
       "    }\n",
       "\n",
       "    .dataframe thead th {\n",
       "        text-align: right;\n",
       "    }\n",
       "</style>\n",
       "<table border=\"1\" class=\"dataframe\">\n",
       "  <thead>\n",
       "    <tr style=\"text-align: right;\">\n",
       "      <th></th>\n",
       "      <th>critic_rating</th>\n",
       "      <th>is_action</th>\n",
       "      <th>is_exclusive_to_us</th>\n",
       "      <th>is_portable</th>\n",
       "      <th>is_role_playing</th>\n",
       "      <th>is_sequel</th>\n",
       "      <th>is_sports</th>\n",
       "      <th>suitable_for_kids</th>\n",
       "      <th>total_earnings</th>\n",
       "      <th>unit_price</th>\n",
       "    </tr>\n",
       "  </thead>\n",
       "  <tbody>\n",
       "    <tr>\n",
       "      <td>0</td>\n",
       "      <td>0.500000</td>\n",
       "      <td>1.0</td>\n",
       "      <td>0.0</td>\n",
       "      <td>1.0</td>\n",
       "      <td>0.0</td>\n",
       "      <td>1.0</td>\n",
       "      <td>0.0</td>\n",
       "      <td>0.0</td>\n",
       "      <td>0.374714</td>\n",
       "      <td>1.0</td>\n",
       "    </tr>\n",
       "    <tr>\n",
       "      <td>1</td>\n",
       "      <td>0.833333</td>\n",
       "      <td>0.0</td>\n",
       "      <td>0.0</td>\n",
       "      <td>0.0</td>\n",
       "      <td>0.0</td>\n",
       "      <td>1.0</td>\n",
       "      <td>1.0</td>\n",
       "      <td>0.0</td>\n",
       "      <td>0.192425</td>\n",
       "      <td>0.5</td>\n",
       "    </tr>\n",
       "    <tr>\n",
       "      <td>2</td>\n",
       "      <td>0.333333</td>\n",
       "      <td>0.0</td>\n",
       "      <td>0.0</td>\n",
       "      <td>0.0</td>\n",
       "      <td>0.0</td>\n",
       "      <td>1.0</td>\n",
       "      <td>1.0</td>\n",
       "      <td>0.0</td>\n",
       "      <td>0.114852</td>\n",
       "      <td>0.5</td>\n",
       "    </tr>\n",
       "    <tr>\n",
       "      <td>3</td>\n",
       "      <td>0.833333</td>\n",
       "      <td>1.0</td>\n",
       "      <td>0.0</td>\n",
       "      <td>0.0</td>\n",
       "      <td>0.0</td>\n",
       "      <td>0.0</td>\n",
       "      <td>0.0</td>\n",
       "      <td>1.0</td>\n",
       "      <td>0.142452</td>\n",
       "      <td>0.0</td>\n",
       "    </tr>\n",
       "    <tr>\n",
       "      <td>4</td>\n",
       "      <td>0.666667</td>\n",
       "      <td>1.0</td>\n",
       "      <td>0.0</td>\n",
       "      <td>1.0</td>\n",
       "      <td>0.0</td>\n",
       "      <td>1.0</td>\n",
       "      <td>0.0</td>\n",
       "      <td>1.0</td>\n",
       "      <td>0.480682</td>\n",
       "      <td>1.0</td>\n",
       "    </tr>\n",
       "  </tbody>\n",
       "</table>\n",
       "</div>"
      ],
      "text/plain": [
       "   critic_rating  is_action  is_exclusive_to_us  is_portable  is_role_playing  \\\n",
       "0       0.500000        1.0                 0.0          1.0              0.0   \n",
       "1       0.833333        0.0                 0.0          0.0              0.0   \n",
       "2       0.333333        0.0                 0.0          0.0              0.0   \n",
       "3       0.833333        1.0                 0.0          0.0              0.0   \n",
       "4       0.666667        1.0                 0.0          1.0              0.0   \n",
       "\n",
       "   is_sequel  is_sports  suitable_for_kids  total_earnings  unit_price  \n",
       "0        1.0        0.0                0.0        0.374714         1.0  \n",
       "1        1.0        1.0                0.0        0.192425         0.5  \n",
       "2        1.0        1.0                0.0        0.114852         0.5  \n",
       "3        0.0        0.0                1.0        0.142452         0.0  \n",
       "4        1.0        0.0                1.0        0.480682         1.0  "
      ]
     },
     "execution_count": 11,
     "metadata": {},
     "output_type": "execute_result"
    }
   ],
   "source": [
    "scaled_train_data.head()"
   ]
  },
  {
   "cell_type": "code",
   "execution_count": 12,
   "metadata": {},
   "outputs": [
    {
     "data": {
      "text/html": [
       "<div>\n",
       "<style scoped>\n",
       "    .dataframe tbody tr th:only-of-type {\n",
       "        vertical-align: middle;\n",
       "    }\n",
       "\n",
       "    .dataframe tbody tr th {\n",
       "        vertical-align: top;\n",
       "    }\n",
       "\n",
       "    .dataframe thead th {\n",
       "        text-align: right;\n",
       "    }\n",
       "</style>\n",
       "<table border=\"1\" class=\"dataframe\">\n",
       "  <thead>\n",
       "    <tr style=\"text-align: right;\">\n",
       "      <th></th>\n",
       "      <th>critic_rating</th>\n",
       "      <th>is_action</th>\n",
       "      <th>is_exclusive_to_us</th>\n",
       "      <th>is_portable</th>\n",
       "      <th>is_role_playing</th>\n",
       "      <th>is_sequel</th>\n",
       "      <th>is_sports</th>\n",
       "      <th>suitable_for_kids</th>\n",
       "      <th>total_earnings</th>\n",
       "      <th>unit_price</th>\n",
       "    </tr>\n",
       "  </thead>\n",
       "  <tbody>\n",
       "    <tr>\n",
       "      <td>0</td>\n",
       "      <td>0.500000</td>\n",
       "      <td>1.0</td>\n",
       "      <td>1.0</td>\n",
       "      <td>1.0</td>\n",
       "      <td>0.0</td>\n",
       "      <td>1.0</td>\n",
       "      <td>0.0</td>\n",
       "      <td>1.0</td>\n",
       "      <td>0.799179</td>\n",
       "      <td>1.0</td>\n",
       "    </tr>\n",
       "    <tr>\n",
       "      <td>1</td>\n",
       "      <td>0.166667</td>\n",
       "      <td>0.0</td>\n",
       "      <td>0.0</td>\n",
       "      <td>0.0</td>\n",
       "      <td>1.0</td>\n",
       "      <td>1.0</td>\n",
       "      <td>0.0</td>\n",
       "      <td>0.0</td>\n",
       "      <td>0.157502</td>\n",
       "      <td>1.0</td>\n",
       "    </tr>\n",
       "    <tr>\n",
       "      <td>2</td>\n",
       "      <td>0.500000</td>\n",
       "      <td>0.0</td>\n",
       "      <td>0.0</td>\n",
       "      <td>0.0</td>\n",
       "      <td>0.0</td>\n",
       "      <td>1.0</td>\n",
       "      <td>1.0</td>\n",
       "      <td>0.0</td>\n",
       "      <td>0.189704</td>\n",
       "      <td>1.0</td>\n",
       "    </tr>\n",
       "    <tr>\n",
       "      <td>3</td>\n",
       "      <td>0.666667</td>\n",
       "      <td>1.0</td>\n",
       "      <td>1.0</td>\n",
       "      <td>0.0</td>\n",
       "      <td>0.0</td>\n",
       "      <td>1.0</td>\n",
       "      <td>0.0</td>\n",
       "      <td>0.0</td>\n",
       "      <td>0.392233</td>\n",
       "      <td>0.0</td>\n",
       "    </tr>\n",
       "    <tr>\n",
       "      <td>4</td>\n",
       "      <td>0.000000</td>\n",
       "      <td>1.0</td>\n",
       "      <td>0.0</td>\n",
       "      <td>1.0</td>\n",
       "      <td>0.0</td>\n",
       "      <td>1.0</td>\n",
       "      <td>0.0</td>\n",
       "      <td>0.0</td>\n",
       "      <td>0.215464</td>\n",
       "      <td>1.0</td>\n",
       "    </tr>\n",
       "  </tbody>\n",
       "</table>\n",
       "</div>"
      ],
      "text/plain": [
       "   critic_rating  is_action  is_exclusive_to_us  is_portable  is_role_playing  \\\n",
       "0       0.500000        1.0                 1.0          1.0              0.0   \n",
       "1       0.166667        0.0                 0.0          0.0              1.0   \n",
       "2       0.500000        0.0                 0.0          0.0              0.0   \n",
       "3       0.666667        1.0                 1.0          0.0              0.0   \n",
       "4       0.000000        1.0                 0.0          1.0              0.0   \n",
       "\n",
       "   is_sequel  is_sports  suitable_for_kids  total_earnings  unit_price  \n",
       "0        1.0        0.0                1.0        0.799179         1.0  \n",
       "1        1.0        0.0                0.0        0.157502         1.0  \n",
       "2        1.0        1.0                0.0        0.189704         1.0  \n",
       "3        1.0        0.0                0.0        0.392233         0.0  \n",
       "4        1.0        0.0                0.0        0.215464         1.0  "
      ]
     },
     "execution_count": 12,
     "metadata": {},
     "output_type": "execute_result"
    }
   ],
   "source": [
    "scaled_test_data.head()"
   ]
  },
  {
   "cell_type": "markdown",
   "metadata": {},
   "source": [
    "### Create a model"
   ]
  },
  {
   "cell_type": "code",
   "execution_count": 13,
   "metadata": {},
   "outputs": [],
   "source": [
    "X_train = scaled_train_data.drop(\"total_earnings\", axis = 1).values\n",
    "Y_train = scaled_train_data[[\"total_earnings\"]].values"
   ]
  },
  {
   "cell_type": "code",
   "execution_count": 14,
   "metadata": {},
   "outputs": [],
   "source": [
    "model = tf.keras.Sequential()"
   ]
  },
  {
   "cell_type": "code",
   "execution_count": 15,
   "metadata": {},
   "outputs": [],
   "source": [
    "model.add(Dense(50, input_dim = 9, activation = \"relu\", name = \"layer_1\"))\n",
    "model.add(Dense(100, activation = \"relu\", name = \"layer_2\"))\n",
    "model.add(Dense(200, activation = \"relu\", name = \"layer_3\"))\n",
    "model.add(Dense(300, activation = \"relu\", name = \"layer_4\"))\n",
    "model.add(Dense(200, activation = \"relu\", name = \"layer_5\"))\n",
    "model.add(Dense(100, activation = \"relu\", name = \"layer_6\"))\n",
    "model.add(Dense(50, activation = \"relu\", name = \"layer_7\"))\n",
    "model.add(Dense(1, activation = \"linear\", name = \"output_layer\"))\n",
    "\n",
    "model.compile(loss = \"mean_squared_error\", optimizer = \"adam\")\n"
   ]
  },
  {
   "cell_type": "markdown",
   "metadata": {},
   "source": [
    "### Create a tensorboard logger"
   ]
  },
  {
   "cell_type": "code",
   "execution_count": 16,
   "metadata": {},
   "outputs": [],
   "source": [
    "logger = keras.callbacks.TensorBoard(\n",
    "    log_dir = \"logs\",\n",
    "    write_graph = True,\n",
    "    histogram_freq = 5\n",
    ")"
   ]
  },
  {
   "cell_type": "markdown",
   "metadata": {},
   "source": [
    "### Let's train the neural network"
   ]
  },
  {
   "cell_type": "code",
   "execution_count": 17,
   "metadata": {
    "scrolled": true
   },
   "outputs": [
    {
     "name": "stdout",
     "output_type": "stream",
     "text": [
      "Epoch 1/100\n",
      "WARNING:tensorflow:From /Library/Frameworks/Python.framework/Versions/3.7/lib/python3.7/site-packages/tensorflow/python/ops/summary_ops_v2.py:1277: stop (from tensorflow.python.eager.profiler) is deprecated and will be removed after 2020-07-01.\n",
      "Instructions for updating:\n",
      "use `tf.profiler.experimental.stop` instead.\n",
      "WARNING:tensorflow:Callbacks method `on_train_batch_end` is slow compared to the batch time (batch time: 0.0026s vs `on_train_batch_end` time: 0.0191s). Check your callbacks.\n",
      "32/32 - 0s - loss: 0.0166\n",
      "Epoch 2/100\n",
      "32/32 - 0s - loss: 0.0011\n",
      "Epoch 3/100\n",
      "32/32 - 0s - loss: 0.0012\n",
      "Epoch 4/100\n",
      "32/32 - 0s - loss: 4.5608e-04\n",
      "Epoch 5/100\n",
      "32/32 - 0s - loss: 2.0519e-04\n",
      "Epoch 6/100\n",
      "32/32 - 0s - loss: 1.4791e-04\n",
      "Epoch 7/100\n",
      "32/32 - 0s - loss: 1.8709e-04\n",
      "Epoch 8/100\n",
      "32/32 - 0s - loss: 1.0508e-04\n",
      "Epoch 9/100\n",
      "32/32 - 0s - loss: 8.0618e-05\n",
      "Epoch 10/100\n",
      "32/32 - 0s - loss: 1.1614e-04\n",
      "Epoch 11/100\n",
      "32/32 - 0s - loss: 6.4168e-05\n",
      "Epoch 12/100\n",
      "32/32 - 0s - loss: 5.4713e-05\n",
      "Epoch 13/100\n",
      "32/32 - 0s - loss: 5.8982e-05\n",
      "Epoch 14/100\n",
      "32/32 - 0s - loss: 4.1868e-05\n",
      "Epoch 15/100\n",
      "32/32 - 0s - loss: 1.3599e-04\n",
      "Epoch 16/100\n",
      "32/32 - 0s - loss: 2.7302e-04\n",
      "Epoch 17/100\n",
      "32/32 - 0s - loss: 9.4190e-05\n",
      "Epoch 18/100\n",
      "32/32 - 0s - loss: 9.9650e-05\n",
      "Epoch 19/100\n",
      "32/32 - 0s - loss: 8.3016e-05\n",
      "Epoch 20/100\n",
      "32/32 - 0s - loss: 4.4786e-05\n",
      "Epoch 21/100\n",
      "32/32 - 0s - loss: 5.7752e-05\n",
      "Epoch 22/100\n",
      "32/32 - 0s - loss: 9.7764e-05\n",
      "Epoch 23/100\n",
      "32/32 - 0s - loss: 5.3050e-05\n",
      "Epoch 24/100\n",
      "32/32 - 0s - loss: 6.2811e-05\n",
      "Epoch 25/100\n",
      "32/32 - 0s - loss: 5.7826e-05\n",
      "Epoch 26/100\n",
      "32/32 - 0s - loss: 6.1083e-05\n",
      "Epoch 27/100\n",
      "32/32 - 0s - loss: 1.3293e-04\n",
      "Epoch 28/100\n",
      "32/32 - 0s - loss: 1.8276e-04\n",
      "Epoch 29/100\n",
      "32/32 - 0s - loss: 7.5728e-05\n",
      "Epoch 30/100\n",
      "32/32 - 0s - loss: 6.0616e-05\n",
      "Epoch 31/100\n",
      "32/32 - 0s - loss: 7.4073e-05\n",
      "Epoch 32/100\n",
      "32/32 - 0s - loss: 1.2782e-04\n",
      "Epoch 33/100\n",
      "32/32 - 0s - loss: 1.8687e-04\n",
      "Epoch 34/100\n",
      "32/32 - 0s - loss: 6.8587e-05\n",
      "Epoch 35/100\n",
      "32/32 - 0s - loss: 1.3797e-04\n",
      "Epoch 36/100\n",
      "32/32 - 0s - loss: 7.5706e-05\n",
      "Epoch 37/100\n",
      "32/32 - 0s - loss: 5.8379e-05\n",
      "Epoch 38/100\n",
      "32/32 - 0s - loss: 6.7761e-05\n",
      "Epoch 39/100\n",
      "32/32 - 0s - loss: 6.5598e-05\n",
      "Epoch 40/100\n",
      "32/32 - 0s - loss: 6.8623e-05\n",
      "Epoch 41/100\n",
      "32/32 - 0s - loss: 3.3818e-05\n",
      "Epoch 42/100\n",
      "32/32 - 0s - loss: 3.3340e-05\n",
      "Epoch 43/100\n",
      "32/32 - 0s - loss: 3.5620e-05\n",
      "Epoch 44/100\n",
      "32/32 - 0s - loss: 3.5707e-05\n",
      "Epoch 45/100\n",
      "32/32 - 0s - loss: 3.0442e-05\n",
      "Epoch 46/100\n",
      "32/32 - 0s - loss: 1.0936e-04\n",
      "Epoch 47/100\n",
      "32/32 - 0s - loss: 2.1940e-04\n",
      "Epoch 48/100\n",
      "32/32 - 0s - loss: 6.8010e-05\n",
      "Epoch 49/100\n",
      "32/32 - 0s - loss: 3.9444e-05\n",
      "Epoch 50/100\n",
      "32/32 - 0s - loss: 5.8619e-05\n",
      "Epoch 51/100\n",
      "32/32 - 0s - loss: 3.2076e-05\n",
      "Epoch 52/100\n",
      "32/32 - 0s - loss: 8.2417e-05\n",
      "Epoch 53/100\n",
      "32/32 - 0s - loss: 4.1271e-05\n",
      "Epoch 54/100\n",
      "32/32 - 0s - loss: 8.8185e-05\n",
      "Epoch 55/100\n",
      "32/32 - 0s - loss: 3.2827e-04\n",
      "Epoch 56/100\n",
      "32/32 - 0s - loss: 3.0324e-04\n",
      "Epoch 57/100\n",
      "32/32 - 0s - loss: 1.2333e-04\n",
      "Epoch 58/100\n",
      "32/32 - 0s - loss: 7.3021e-05\n",
      "Epoch 59/100\n",
      "32/32 - 0s - loss: 4.6364e-05\n",
      "Epoch 60/100\n",
      "32/32 - 0s - loss: 6.1329e-05\n",
      "Epoch 61/100\n",
      "32/32 - 0s - loss: 3.0545e-05\n",
      "Epoch 62/100\n",
      "32/32 - 0s - loss: 1.9294e-05\n",
      "Epoch 63/100\n",
      "32/32 - 0s - loss: 3.3866e-05\n",
      "Epoch 64/100\n",
      "32/32 - 0s - loss: 3.7831e-05\n",
      "Epoch 65/100\n",
      "32/32 - 0s - loss: 9.2119e-05\n",
      "Epoch 66/100\n",
      "32/32 - 0s - loss: 6.6035e-05\n",
      "Epoch 67/100\n",
      "32/32 - 0s - loss: 1.0162e-04\n",
      "Epoch 68/100\n",
      "32/32 - 0s - loss: 3.6267e-05\n",
      "Epoch 69/100\n",
      "32/32 - 0s - loss: 3.8494e-05\n",
      "Epoch 70/100\n",
      "32/32 - 0s - loss: 1.2825e-04\n",
      "Epoch 71/100\n",
      "32/32 - 0s - loss: 6.1358e-04\n",
      "Epoch 72/100\n",
      "32/32 - 0s - loss: 2.0695e-04\n",
      "Epoch 73/100\n",
      "32/32 - 0s - loss: 4.4023e-05\n",
      "Epoch 74/100\n",
      "32/32 - 0s - loss: 4.5339e-05\n",
      "Epoch 75/100\n",
      "32/32 - 0s - loss: 1.9154e-05\n",
      "Epoch 76/100\n",
      "32/32 - 0s - loss: 2.1356e-05\n",
      "Epoch 77/100\n",
      "32/32 - 0s - loss: 2.2478e-05\n",
      "Epoch 78/100\n",
      "32/32 - 0s - loss: 5.3944e-05\n",
      "Epoch 79/100\n",
      "32/32 - 0s - loss: 3.3004e-05\n",
      "Epoch 80/100\n",
      "32/32 - 0s - loss: 2.1991e-05\n",
      "Epoch 81/100\n",
      "32/32 - 0s - loss: 4.4652e-05\n",
      "Epoch 82/100\n",
      "32/32 - 0s - loss: 3.7938e-05\n",
      "Epoch 83/100\n",
      "32/32 - 0s - loss: 7.0743e-05\n",
      "Epoch 84/100\n",
      "32/32 - 0s - loss: 5.9701e-05\n",
      "Epoch 85/100\n",
      "32/32 - 0s - loss: 6.6353e-05\n",
      "Epoch 86/100\n",
      "32/32 - 0s - loss: 8.0399e-05\n",
      "Epoch 87/100\n",
      "32/32 - 0s - loss: 4.5341e-05\n",
      "Epoch 88/100\n",
      "32/32 - 0s - loss: 7.5986e-05\n",
      "Epoch 89/100\n",
      "32/32 - 0s - loss: 3.0561e-05\n",
      "Epoch 90/100\n",
      "32/32 - 0s - loss: 3.2523e-05\n",
      "Epoch 91/100\n",
      "32/32 - 0s - loss: 2.4010e-05\n",
      "Epoch 92/100\n",
      "32/32 - 0s - loss: 2.7258e-05\n",
      "Epoch 93/100\n",
      "32/32 - 0s - loss: 1.9208e-05\n",
      "Epoch 94/100\n",
      "32/32 - 0s - loss: 1.9505e-05\n",
      "Epoch 95/100\n",
      "32/32 - 0s - loss: 3.6386e-05\n",
      "Epoch 96/100\n",
      "32/32 - 0s - loss: 3.5481e-05\n",
      "Epoch 97/100\n",
      "32/32 - 0s - loss: 4.3646e-05\n",
      "Epoch 98/100\n",
      "32/32 - 0s - loss: 4.5546e-05\n",
      "Epoch 99/100\n",
      "32/32 - 0s - loss: 4.1312e-05\n",
      "Epoch 100/100\n",
      "32/32 - 0s - loss: 2.1351e-05\n"
     ]
    },
    {
     "data": {
      "text/plain": [
       "<tensorflow.python.keras.callbacks.History at 0x15e21cbd0>"
      ]
     },
     "execution_count": 17,
     "metadata": {},
     "output_type": "execute_result"
    }
   ],
   "source": [
    "model.fit(X_train, \n",
    "          Y_train, \n",
    "          epochs = 100, \n",
    "          shuffle = True, \n",
    "          verbose = 2,\n",
    "          callbacks = [logger]\n",
    "         )"
   ]
  },
  {
   "cell_type": "code",
   "execution_count": 18,
   "metadata": {},
   "outputs": [],
   "source": [
    "X_test = scaled_test_data.drop(\"total_earnings\", axis = 1).values\n",
    "Y_test = scaled_test_data[[\"total_earnings\"]].values"
   ]
  },
  {
   "cell_type": "code",
   "execution_count": 19,
   "metadata": {},
   "outputs": [],
   "source": [
    "test_error_rate = model.evaluate(X_test, Y_test, verbose = 0)"
   ]
  },
  {
   "cell_type": "code",
   "execution_count": 20,
   "metadata": {},
   "outputs": [
    {
     "name": "stdout",
     "output_type": "stream",
     "text": [
      "The mean-square-error for the test data is 0.00461 %\n"
     ]
    }
   ],
   "source": [
    "print(\"The mean-square-error for the test data is {} %\".format(np.round(test_error_rate*100, 5)))"
   ]
  },
  {
   "cell_type": "markdown",
   "metadata": {},
   "source": [
    "### Let's predict the data for newly proposed values"
   ]
  },
  {
   "cell_type": "code",
   "execution_count": 21,
   "metadata": {},
   "outputs": [],
   "source": [
    "predict_X = pd.read_csv(\"proposed_new_product.csv\").values"
   ]
  },
  {
   "cell_type": "code",
   "execution_count": 22,
   "metadata": {},
   "outputs": [],
   "source": [
    "prediction = model.predict(predict_X)"
   ]
  },
  {
   "cell_type": "code",
   "execution_count": 23,
   "metadata": {},
   "outputs": [],
   "source": [
    "prediction = prediction[0][0]"
   ]
  },
  {
   "cell_type": "markdown",
   "metadata": {},
   "source": [
    "### We need to re-scale the prediction, since it will be in the similar ( 0, 1 ) range, for our scaled dataset"
   ]
  },
  {
   "cell_type": "code",
   "execution_count": 24,
   "metadata": {},
   "outputs": [],
   "source": [
    "prediction = prediction + abs(add_factor)\n",
    "prediction = prediction / mul_factor"
   ]
  },
  {
   "cell_type": "code",
   "execution_count": 25,
   "metadata": {},
   "outputs": [
    {
     "name": "stdout",
     "output_type": "stream",
     "text": [
      "Earning prediction for proposed product: $265344.2622062564\n"
     ]
    }
   ],
   "source": [
    "print(\"Earning prediction for proposed product: ${}\".format(prediction))"
   ]
  },
  {
   "cell_type": "markdown",
   "metadata": {},
   "source": [
    "_____"
   ]
  }
 ],
 "metadata": {
  "kernelspec": {
   "display_name": "Python 3",
   "language": "python",
   "name": "python3"
  },
  "language_info": {
   "codemirror_mode": {
    "name": "ipython",
    "version": 3
   },
   "file_extension": ".py",
   "mimetype": "text/x-python",
   "name": "python",
   "nbconvert_exporter": "python",
   "pygments_lexer": "ipython3",
   "version": "3.7.7"
  }
 },
 "nbformat": 4,
 "nbformat_minor": 2
}
